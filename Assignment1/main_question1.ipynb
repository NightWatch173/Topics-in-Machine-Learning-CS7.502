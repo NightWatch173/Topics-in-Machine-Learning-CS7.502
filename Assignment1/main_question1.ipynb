{
 "cells": [
  {
   "cell_type": "code",
   "execution_count": 1,
   "metadata": {},
   "outputs": [],
   "source": [
    "import sys\n",
    "sys.path.append('/Users/kanishkjain/opt/anaconda3/envs/gym/lib/python3.9/site-packages')\n",
    "\n",
    "import gym\n",
    "import numpy as np\n",
    "import matplotlib.pyplot as plt\n",
    "\n",
    "import pandas as pd"
   ]
  },
  {
   "cell_type": "code",
   "execution_count": 2,
   "metadata": {},
   "outputs": [],
   "source": [
    "class Agent:\n",
    "    def __init__(self, environment='CliffWalking-v0', gamma=0.1, theta=1e-8) -> None:\n",
    "        \n",
    "        self.env = gym.make(environment)\n",
    "        self.env.reset()\n",
    "        \n",
    "        self.theta = theta\n",
    "        \n",
    "        self.A_space = self.env.action_space\n",
    "        self.S_space = self.env.observation_space\n",
    "        self.R_range = self.env.reward_range\n",
    "\n",
    "        self.Num_A = self.A_space.n\n",
    "        self.Num_S = self.S_space.n\n",
    "        \n",
    "        if environment == 'CliffWalking-v0':\n",
    "            for s in range(self.Num_S):\n",
    "                for a in range(self.Num_A):\n",
    "                    P, S_, R_, T = self.env.P[s][a][0]\n",
    "                    if T:\n",
    "                        self.env.P[s][a] = [(P, S_, 0, T)]\n",
    "                \n",
    "    \n",
    "    def random_policy(self, gamma=0.1):\n",
    "        \n",
    "        V = np.random.rand(self.Num_S)\n",
    "        Pi = np.random.randint(0, self.Num_A, (self.Num_S, ))\n",
    "        \n",
    "        returns = []\n",
    "        for s in range(self.Num_S):\n",
    "            Pi[s] = self.env.action_space.sample()\n",
    "        returns.append(self.calculate_reward(Pi, gamma))\n",
    "        \n",
    "        return V, Pi, returns\n",
    "    \n",
    "    def calculate_reward(self, Pi, gamma):\n",
    "        MAX_STEPS = 50\n",
    "        \n",
    "        S = self.env.reset()\n",
    "        \n",
    "        terminal = False\n",
    "        step = 0\n",
    "        G = 0\n",
    "        while not terminal and step<MAX_STEPS:\n",
    "            A = Pi[S]\n",
    "            S, R, done, _ = self.env.step(A)\n",
    "            G += R\n",
    "            step += 1\n",
    "            terminal = done\n",
    "        return G\n",
    "            \n",
    "    \n",
    "    def policy_evaluation(self, V, Pi, gamma):\n",
    "        while True:\n",
    "            delta = 0\n",
    "            \n",
    "            for s in range(self.Num_S):\n",
    "                v = V[s]\n",
    "                a = Pi[s]\n",
    "                V[s] = sum([P*(R_ + gamma*V[S_]) for P, S_, R_, _ in self.env.P[s][a]])\n",
    "                delta = max(delta, abs(v - V[s]))\n",
    "            if delta < self.theta: \n",
    "                break\n",
    "        return V\n",
    "\n",
    "    def policy_improvement(self, V, Pi, gamma):\n",
    "        policy_stable = True\n",
    "        for s in range(self.Num_S):\n",
    "            a = Pi[s]\n",
    "            Pi[s] = np.argmax([sum([P*(R_ + gamma*V[S_]) for P, S_, R_, _ in self.env.P[s][a_]]) for a_ in range(self.Num_A)])\n",
    "            if a!=Pi[s]:\n",
    "                policy_stable = False\n",
    "        return Pi, policy_stable\n",
    "    \n",
    "    def policy_iteration(self, gamma=0.9):\n",
    "        \n",
    "        S_start = self.env.reset()\n",
    "        \n",
    "        V = np.random.rand(self.Num_S)\n",
    "        Pi = np.random.randint(0, self.Num_A, (self.Num_S, ))\n",
    "        \n",
    "        count = 0\n",
    "        returns = []\n",
    "        \n",
    "        while True:\n",
    "            V = self.policy_evaluation(V, Pi, gamma)\n",
    "            Pi, policy_stable = self.policy_improvement(V, Pi, gamma)\n",
    "            count += 1\n",
    "            returns.append(self.calculate_reward(Pi, gamma))\n",
    "            if policy_stable:\n",
    "                break\n",
    "                \n",
    "        return V, Pi, returns\n",
    "    \n",
    "    def value_iteration(self, gamma=0.9):\n",
    "        \n",
    "        S_start = self.env.reset()\n",
    "        \n",
    "        V = np.random.rand(self.Num_S)\n",
    "        Pi = np.random.randint(0, self.Num_A, (self.Num_S, ))\n",
    "        \n",
    "        count = 0\n",
    "        returns = []\n",
    "        \n",
    "        while True:\n",
    "            delta = 0\n",
    "            for s in range(self.Num_S):\n",
    "                v = V[s]\n",
    "                V[s] = max([sum([P*(R_ + gamma*V[S_]) for P, S_, R_, _ in self.env.P[s][a_]]) for a_ in range(self.Num_A)])\n",
    "                delta = max(delta, abs(v - V[s]))\n",
    "            count += 1\n",
    "            for s in range(self.Num_S):\n",
    "                Pi[s] = np.argmax([sum([P*(R_ + gamma*V[S_]) for P, S_, R_, _ in self.env.P[s][a_]]) for a_ in range(self.Num_A)])\n",
    "            returns.append(self.calculate_reward(Pi, gamma))\n",
    "            if delta < self.theta: \n",
    "                break\n",
    "        \n",
    "        return V, Pi, returns\n",
    "    \n",
    "    def show_policy(self, Pi):\n",
    "        \n",
    "        MAX_STEPS = 100\n",
    "        \n",
    "        S = self.env.reset()\n",
    "        \n",
    "        T = False\n",
    "        step = 0\n",
    "        while not T and step<MAX_STEPS:\n",
    "            A = Pi[S]\n",
    "            S, R_, done, _ = self.env.step(A)\n",
    "            self.env.render()\n",
    "            step += 1\n",
    "            T = done\n",
    "        # self.env.render()\n",
    "        print(\"Finished\", done)"
   ]
  },
  {
   "cell_type": "code",
   "execution_count": 3,
   "metadata": {},
   "outputs": [],
   "source": [
    "N = 100"
   ]
  },
  {
   "cell_type": "code",
   "execution_count": 4,
   "metadata": {},
   "outputs": [
    {
     "name": "stdout",
     "output_type": "stream",
     "text": [
      "o  o  o  o  o  o  o  o  o  o  o  o\n",
      "o  o  o  o  o  o  o  o  o  o  o  o\n",
      "x  o  o  o  o  o  o  o  o  o  o  o\n",
      "o  C  C  C  C  C  C  C  C  C  C  T\n",
      "\n",
      "o  o  o  o  o  o  o  o  o  o  o  o\n",
      "o  o  o  o  o  o  o  o  o  o  o  o\n",
      "o  x  o  o  o  o  o  o  o  o  o  o\n",
      "o  C  C  C  C  C  C  C  C  C  C  T\n",
      "\n",
      "o  o  o  o  o  o  o  o  o  o  o  o\n",
      "o  o  o  o  o  o  o  o  o  o  o  o\n",
      "o  o  x  o  o  o  o  o  o  o  o  o\n",
      "o  C  C  C  C  C  C  C  C  C  C  T\n",
      "\n",
      "o  o  o  o  o  o  o  o  o  o  o  o\n",
      "o  o  o  o  o  o  o  o  o  o  o  o\n",
      "o  o  o  x  o  o  o  o  o  o  o  o\n",
      "o  C  C  C  C  C  C  C  C  C  C  T\n",
      "\n",
      "o  o  o  o  o  o  o  o  o  o  o  o\n",
      "o  o  o  o  o  o  o  o  o  o  o  o\n",
      "o  o  o  o  x  o  o  o  o  o  o  o\n",
      "o  C  C  C  C  C  C  C  C  C  C  T\n",
      "\n",
      "o  o  o  o  o  o  o  o  o  o  o  o\n",
      "o  o  o  o  o  o  o  o  o  o  o  o\n",
      "o  o  o  o  o  x  o  o  o  o  o  o\n",
      "o  C  C  C  C  C  C  C  C  C  C  T\n",
      "\n",
      "o  o  o  o  o  o  o  o  o  o  o  o\n",
      "o  o  o  o  o  o  o  o  o  o  o  o\n",
      "o  o  o  o  o  o  x  o  o  o  o  o\n",
      "o  C  C  C  C  C  C  C  C  C  C  T\n",
      "\n",
      "o  o  o  o  o  o  o  o  o  o  o  o\n",
      "o  o  o  o  o  o  o  o  o  o  o  o\n",
      "o  o  o  o  o  o  o  x  o  o  o  o\n",
      "o  C  C  C  C  C  C  C  C  C  C  T\n",
      "\n",
      "o  o  o  o  o  o  o  o  o  o  o  o\n",
      "o  o  o  o  o  o  o  o  o  o  o  o\n",
      "o  o  o  o  o  o  o  o  x  o  o  o\n",
      "o  C  C  C  C  C  C  C  C  C  C  T\n",
      "\n",
      "o  o  o  o  o  o  o  o  o  o  o  o\n",
      "o  o  o  o  o  o  o  o  o  o  o  o\n",
      "o  o  o  o  o  o  o  o  o  x  o  o\n",
      "o  C  C  C  C  C  C  C  C  C  C  T\n",
      "\n",
      "o  o  o  o  o  o  o  o  o  o  o  o\n",
      "o  o  o  o  o  o  o  o  o  o  o  o\n",
      "o  o  o  o  o  o  o  o  o  o  x  o\n",
      "o  C  C  C  C  C  C  C  C  C  C  T\n",
      "\n",
      "o  o  o  o  o  o  o  o  o  o  o  o\n",
      "o  o  o  o  o  o  o  o  o  o  o  o\n",
      "o  o  o  o  o  o  o  o  o  o  o  x\n",
      "o  C  C  C  C  C  C  C  C  C  C  T\n",
      "\n",
      "o  o  o  o  o  o  o  o  o  o  o  o\n",
      "o  o  o  o  o  o  o  o  o  o  o  o\n",
      "o  o  o  o  o  o  o  o  o  o  o  o\n",
      "o  C  C  C  C  C  C  C  C  C  C  x\n",
      "\n",
      "Finished True\n"
     ]
    }
   ],
   "source": [
    "## Policy Iteration\n",
    "policy_agent = Agent(environment='CliffWalking-v0')\n",
    "\n",
    "policy_returns_over_N = []\n",
    "for _ in range(N):\n",
    "    V, Pi, returns = policy_agent.policy_iteration()\n",
    "    policy_returns_over_N.append(returns)\n",
    "policy_agent.show_policy(Pi)"
   ]
  },
  {
   "cell_type": "code",
   "execution_count": 5,
   "metadata": {},
   "outputs": [
    {
     "data": {
      "image/png": "[encoded data removed]",
      "text/plain": [
       "<Figure size 432x288 with 1 Axes>"
      ]
     },
     "metadata": {
      "needs_background": "light"
     },
     "output_type": "display_data"
    }
   ],
   "source": [
    "policy_returns = returns\n",
    "plt.plot(policy_returns)\n",
    "\n",
    "plt.xlabel(\"Iterations\")\n",
    "plt.ylabel(\"Returns\")\n",
    "plt.title(\"Policy Iteration\")\n",
    "\n",
    "plt.show()"
   ]
  },
  {
   "cell_type": "code",
   "execution_count": 6,
   "metadata": {},
   "outputs": [
    {
     "data": {
      "image/png": "[encoded data removed]",
      "text/plain": [
       "<Figure size 432x288 with 1 Axes>"
      ]
     },
     "metadata": {
      "needs_background": "light"
     },
     "output_type": "display_data"
    }
   ],
   "source": [
    "policy_max_return = []\n",
    "policy_min_return = []\n",
    "policy_mean_return = []\n",
    "\n",
    "for return_ in policy_returns_over_N:\n",
    "    policy_max_return.append(max(return_))\n",
    "    policy_min_return.append(min(return_))\n",
    "    policy_mean_return.append(sum(return_)/len(return_))\n",
    "\n",
    "plt.plot(policy_max_return, label='max')\n",
    "plt.plot(policy_min_return, label='min')\n",
    "plt.plot(policy_mean_return, label='mean')\n",
    "# plt.ylim(-60, -5)\n",
    "# plt.xlim(0, len(policy_returns_over_N))\n",
    "\n",
    "plt.xlabel(\"Iterations\")\n",
    "plt.ylabel(\"Returns\")\n",
    "plt.title(\"Policy Iteration\")\n",
    "\n",
    "plt.legend()\n",
    "plt.show()"
   ]
  },
  {
   "cell_type": "code",
   "execution_count": 7,
   "metadata": {},
   "outputs": [
    {
     "name": "stdout",
     "output_type": "stream",
     "text": [
      "Final State Values:  [-7.45813418e+00 -7.17570464e+00 -6.86189404e+00 -6.51321560e+00\n",
      " -6.12579512e+00 -5.69532791e+00 -5.21703101e+00 -4.68559001e+00\n",
      " -4.09510001e+00 -3.43900001e+00 -2.71000001e+00 -1.90000001e+00\n",
      " -7.17570464e+00 -6.86189404e+00 -6.51321560e+00 -6.12579512e+00\n",
      " -5.69532791e+00 -5.21703101e+00 -4.68559001e+00 -4.09510001e+00\n",
      " -3.43900001e+00 -2.71000001e+00 -1.90000001e+00 -1.00000001e+00\n",
      " -6.86189404e+00 -6.51321560e+00 -6.12579512e+00 -5.69532791e+00\n",
      " -5.21703101e+00 -4.68559001e+00 -4.09510001e+00 -3.43900001e+00\n",
      " -2.71000001e+00 -1.90000001e+00 -1.00000001e+00 -5.71461408e-09\n",
      " -7.17570464e+00 -6.86189404e+00 -6.51321560e+00 -6.12579512e+00\n",
      " -5.69532791e+00 -5.21703101e+00 -4.68559001e+00 -4.09510001e+00\n",
      " -3.43900001e+00 -2.71000001e+00 -5.71461408e-09 -5.71461408e-09]\n",
      "Final Policy:  [1 1 1 1 1 1 1 1 1 1 1 2 1 1 1 1 1 1 1 1 1 1 1 2 1 1 1 1 1 1 1 1 1 1 1 2 0\n",
      " 0 0 0 0 0 0 0 0 0 1 1]\n"
     ]
    }
   ],
   "source": [
    "print(\"Final State Values: \", V)\n",
    "print(\"Final Policy: \", Pi)"
   ]
  },
  {
   "cell_type": "code",
   "execution_count": 8,
   "metadata": {
    "scrolled": false
   },
   "outputs": [
    {
     "name": "stdout",
     "output_type": "stream",
     "text": [
      "o  o  o  o  o  o  o  o  o  o  o  o\n",
      "o  o  o  o  o  o  o  o  o  o  o  o\n",
      "x  o  o  o  o  o  o  o  o  o  o  o\n",
      "o  C  C  C  C  C  C  C  C  C  C  T\n",
      "\n",
      "o  o  o  o  o  o  o  o  o  o  o  o\n",
      "o  o  o  o  o  o  o  o  o  o  o  o\n",
      "o  x  o  o  o  o  o  o  o  o  o  o\n",
      "o  C  C  C  C  C  C  C  C  C  C  T\n",
      "\n",
      "o  o  o  o  o  o  o  o  o  o  o  o\n",
      "o  o  o  o  o  o  o  o  o  o  o  o\n",
      "o  o  x  o  o  o  o  o  o  o  o  o\n",
      "o  C  C  C  C  C  C  C  C  C  C  T\n",
      "\n",
      "o  o  o  o  o  o  o  o  o  o  o  o\n",
      "o  o  o  o  o  o  o  o  o  o  o  o\n",
      "o  o  o  x  o  o  o  o  o  o  o  o\n",
      "o  C  C  C  C  C  C  C  C  C  C  T\n",
      "\n",
      "o  o  o  o  o  o  o  o  o  o  o  o\n",
      "o  o  o  o  o  o  o  o  o  o  o  o\n",
      "o  o  o  o  x  o  o  o  o  o  o  o\n",
      "o  C  C  C  C  C  C  C  C  C  C  T\n",
      "\n",
      "o  o  o  o  o  o  o  o  o  o  o  o\n",
      "o  o  o  o  o  o  o  o  o  o  o  o\n",
      "o  o  o  o  o  x  o  o  o  o  o  o\n",
      "o  C  C  C  C  C  C  C  C  C  C  T\n",
      "\n",
      "o  o  o  o  o  o  o  o  o  o  o  o\n",
      "o  o  o  o  o  o  o  o  o  o  o  o\n",
      "o  o  o  o  o  o  x  o  o  o  o  o\n",
      "o  C  C  C  C  C  C  C  C  C  C  T\n",
      "\n",
      "o  o  o  o  o  o  o  o  o  o  o  o\n",
      "o  o  o  o  o  o  o  o  o  o  o  o\n",
      "o  o  o  o  o  o  o  x  o  o  o  o\n",
      "o  C  C  C  C  C  C  C  C  C  C  T\n",
      "\n",
      "o  o  o  o  o  o  o  o  o  o  o  o\n",
      "o  o  o  o  o  o  o  o  o  o  o  o\n",
      "o  o  o  o  o  o  o  o  x  o  o  o\n",
      "o  C  C  C  C  C  C  C  C  C  C  T\n",
      "\n",
      "o  o  o  o  o  o  o  o  o  o  o  o\n",
      "o  o  o  o  o  o  o  o  o  o  o  o\n",
      "o  o  o  o  o  o  o  o  o  x  o  o\n",
      "o  C  C  C  C  C  C  C  C  C  C  T\n",
      "\n",
      "o  o  o  o  o  o  o  o  o  o  o  o\n",
      "o  o  o  o  o  o  o  o  o  o  o  o\n",
      "o  o  o  o  o  o  o  o  o  o  x  o\n",
      "o  C  C  C  C  C  C  C  C  C  C  T\n",
      "\n",
      "o  o  o  o  o  o  o  o  o  o  o  o\n",
      "o  o  o  o  o  o  o  o  o  o  o  o\n",
      "o  o  o  o  o  o  o  o  o  o  o  x\n",
      "o  C  C  C  C  C  C  C  C  C  C  T\n",
      "\n",
      "o  o  o  o  o  o  o  o  o  o  o  o\n",
      "o  o  o  o  o  o  o  o  o  o  o  o\n",
      "o  o  o  o  o  o  o  o  o  o  o  o\n",
      "o  C  C  C  C  C  C  C  C  C  C  x\n",
      "\n",
      "Finished True\n"
     ]
    }
   ],
   "source": [
    "## Value Iteration\n",
    "value_agent = Agent(environment='CliffWalking-v0')\n",
    "\n",
    "value_returns_over_N = []\n",
    "for _ in range(N):\n",
    "    V, Pi, returns = value_agent.value_iteration()\n",
    "    value_returns_over_N.append(returns)\n",
    "\n",
    "value_agent.show_policy(Pi)"
   ]
  },
  {
   "cell_type": "code",
   "execution_count": 9,
   "metadata": {},
   "outputs": [
    {
     "data": {
      "image/png": "[encoded data removed]",
      "text/plain": [
       "<Figure size 432x288 with 1 Axes>"
      ]
     },
     "metadata": {
      "needs_background": "light"
     },
     "output_type": "display_data"
    }
   ],
   "source": [
    "value_returns = returns\n",
    "plt.plot(value_returns)\n",
    "\n",
    "plt.xlabel(\"Iterations\")\n",
    "plt.ylabel(\"Returns\")\n",
    "plt.title(\"Value Iteration\")\n",
    "\n",
    "plt.show()"
   ]
  },
  {
   "cell_type": "code",
   "execution_count": 10,
   "metadata": {},
   "outputs": [
    {
     "data": {
      "image/png": "[encoded data removed]",
      "text/plain": [
       "<Figure size 432x288 with 1 Axes>"
      ]
     },
     "metadata": {
      "needs_background": "light"
     },
     "output_type": "display_data"
    }
   ],
   "source": [
    "value_max_return = []\n",
    "value_min_return = []\n",
    "value_mean_return = []\n",
    "\n",
    "for return_ in value_returns_over_N:\n",
    "    value_max_return.append(max(return_))\n",
    "    value_min_return.append(min(return_))\n",
    "    value_mean_return.append(sum(return_)/len(return_))\n",
    "\n",
    "plt.plot(value_max_return, label='max')\n",
    "plt.plot(value_min_return, label='min')\n",
    "plt.plot(value_mean_return, label='mean')\n",
    "# plt.ylim(-60, -10)\n",
    "# plt.xlim(0, len(value_returns_over_N))\n",
    "\n",
    "plt.xlabel(\"Iterations\")\n",
    "plt.ylabel(\"Returns\")\n",
    "plt.title(\"Value Iteration\")\n",
    "\n",
    "plt.legend()\n",
    "plt.show()"
   ]
  },
  {
   "cell_type": "code",
   "execution_count": 11,
   "metadata": {},
   "outputs": [
    {
     "name": "stdout",
     "output_type": "stream",
     "text": [
      "Final State Values:  [-7.45813409e+00 -7.17570455e+00 -6.86189395e+00 -6.51321551e+00\n",
      " -6.12579503e+00 -5.69532782e+00 -5.21703092e+00 -4.68558992e+00\n",
      " -4.09509992e+00 -3.43899992e+00 -2.70999992e+00 -1.89999992e+00\n",
      " -7.17570455e+00 -6.86189395e+00 -6.51321551e+00 -6.12579503e+00\n",
      " -5.69532782e+00 -5.21703092e+00 -4.68558992e+00 -4.09509992e+00\n",
      " -3.43899992e+00 -2.70999992e+00 -1.89999992e+00 -9.99999915e-01\n",
      " -6.86189395e+00 -6.51321551e+00 -6.12579503e+00 -5.69532782e+00\n",
      " -5.21703092e+00 -4.68558992e+00 -4.09509992e+00 -3.43899992e+00\n",
      " -2.70999992e+00 -1.89999992e+00 -9.99999915e-01  8.49111628e-08\n",
      " -7.17570456e+00 -6.86189396e+00 -6.51321552e+00 -6.12579503e+00\n",
      " -5.69532782e+00 -5.21703092e+00 -4.68558992e+00 -4.09509992e+00\n",
      " -3.43899992e+00 -2.70999992e+00  8.49111628e-08  8.49111628e-08]\n",
      "Final Policy:  [1 1 1 1 1 1 1 1 1 1 1 2 1 1 1 1 1 1 1 1 1 1 1 2 1 1 1 1 1 1 1 1 1 1 1 2 0\n",
      " 0 0 0 0 0 0 0 0 0 1 1]\n"
     ]
    }
   ],
   "source": [
    "print(\"Final State Values: \", V)\n",
    "print(\"Final Policy: \", Pi)"
   ]
  },
  {
   "cell_type": "code",
   "execution_count": null,
   "metadata": {},
   "outputs": [],
   "source": []
  },
  {
   "cell_type": "code",
   "execution_count": 12,
   "metadata": {
    "scrolled": false
   },
   "outputs": [],
   "source": [
    "## Confused Iteration\n",
    "confused_agent = Agent(environment='CliffWalking-v0')\n",
    "\n",
    "confused_returns_over_N = []\n",
    "for _ in range(N):\n",
    "    V, Pi, returns = confused_agent.random_policy()\n",
    "    confused_returns_over_N.append(returns)\n",
    "    \n",
    "# value_agent.show_policy()"
   ]
  },
  {
   "cell_type": "code",
   "execution_count": 13,
   "metadata": {},
   "outputs": [
    {
     "data": {
      "image/png": "[encoded data removed]",
      "text/plain": [
       "<Figure size 432x288 with 1 Axes>"
      ]
     },
     "metadata": {
      "needs_background": "light"
     },
     "output_type": "display_data"
    }
   ],
   "source": [
    "confused_max_return = []\n",
    "confused_min_return = []\n",
    "confused_mean_return = []\n",
    "\n",
    "for return_ in confused_returns_over_N:\n",
    "    confused_max_return.append(max(return_))\n",
    "    confused_min_return.append(min(return_))\n",
    "    confused_mean_return.append(sum(return_)/len(return_))\n",
    "\n",
    "plt.plot(confused_max_return, label='max')\n",
    "plt.plot(confused_min_return, label='min')\n",
    "plt.plot(confused_mean_return, label='mean')\n",
    "# plt.ylim(-60, -30)\n",
    "# plt.xlim(0, len(confused_returns_over_N))\n",
    "\n",
    "plt.xlabel(\"Iterations\")\n",
    "plt.ylabel(\"Returns\")\n",
    "plt.title(\"Confused Agent\")\n",
    "\n",
    "plt.legend()\n",
    "plt.show()"
   ]
  },
  {
   "cell_type": "code",
   "execution_count": 20,
   "metadata": {},
   "outputs": [
    {
     "data": {
      "image/png": "[encoded data removed]",
      "text/plain": [
       "<Figure size 432x288 with 1 Axes>"
      ]
     },
     "metadata": {
      "needs_background": "light"
     },
     "output_type": "display_data"
    }
   ],
   "source": [
    "plt.plot(value_mean_return, label='value agent')\n",
    "plt.plot(policy_mean_return, label='policy agent')\n",
    "plt.plot(confused_mean_return, label='confused agent')\n",
    "plt.ylim(-60, -10)\n",
    "plt.xlim(0, N)\n",
    "\n",
    "plt.xlabel(\"Iterations\")\n",
    "plt.ylabel(\"Returns\")\n",
    "plt.title(\"Mean Reward Comparison\")\n",
    "\n",
    "plt.legend()\n",
    "plt.show()"
   ]
  },
  {
   "cell_type": "code",
   "execution_count": null,
   "metadata": {},
   "outputs": [],
   "source": []
  },
  {
   "cell_type": "code",
   "execution_count": 26,
   "metadata": {
    "scrolled": false
   },
   "outputs": [
    {
     "name": "stdout",
     "output_type": "stream",
     "text": [
      "==============================================================================\n",
      "Policy Iterations: 2, Gamma: 0\n",
      "Pi: [0 0 0 0 0 0 0 0 0 0 0 0 0 0 0 0 0 0 0 0 0 0 0 0 0 0 0 0 0 0 0 0 0 0 0 2 0\n",
      " 0 0 0 0 0 0 0 0 0 1 1]\n",
      "------------------------------------------------------------------------------\n",
      "Value Iterations: 2, Gamma: 0\n",
      "Pi: [0 0 0 0 0 0 0 0 0 0 0 0 0 0 0 0 0 0 0 0 0 0 0 0 0 0 0 0 0 0 0 0 0 0 0 2 0\n",
      " 0 0 0 0 0 0 0 0 0 1 1]\n",
      "==============================================================================\n",
      "==============================================================================\n",
      "Policy Iterations: 16, Gamma: 0.1\n",
      "Pi: [1 1 1 1 1 1 1 1 1 1 1 2 1 1 1 1 1 1 1 1 1 1 1 2 1 1 1 1 1 1 1 1 1 1 1 2 0\n",
      " 0 0 0 0 0 0 0 0 0 1 1]\n",
      "------------------------------------------------------------------------------\n",
      "Value Iterations: 10, Gamma: 0.1\n",
      "Pi: [0 0 0 1 1 1 1 1 1 1 1 2 0 0 1 1 1 1 1 1 1 1 1 2 0 1 1 1 1 1 1 1 1 1 1 2 0\n",
      " 0 0 0 0 0 0 0 0 0 1 1]\n",
      "==============================================================================\n",
      "==============================================================================\n",
      "Policy Iterations: 15, Gamma: 0.5\n",
      "Pi: [1 1 1 1 1 1 1 1 1 1 1 2 1 1 1 1 1 1 1 1 1 1 1 2 1 1 1 1 1 1 1 1 1 1 1 2 0\n",
      " 0 0 0 0 0 0 0 0 0 1 1]\n",
      "------------------------------------------------------------------------------\n",
      "Value Iterations: 26, Gamma: 0.5\n",
      "Pi: [1 1 1 1 1 1 1 1 1 1 1 2 1 1 1 1 1 1 1 1 1 1 1 2 1 1 1 1 1 1 1 1 1 1 1 2 0\n",
      " 0 0 0 0 0 0 0 0 0 1 1]\n",
      "==============================================================================\n",
      "==============================================================================\n",
      "Policy Iterations: 16, Gamma: 0.75\n",
      "Pi: [1 1 1 1 1 1 1 1 1 1 1 2 1 1 1 1 1 1 1 1 1 1 1 2 1 1 1 1 1 1 1 1 1 1 1 2 0\n",
      " 0 0 0 0 0 0 0 0 0 1 1]\n",
      "------------------------------------------------------------------------------\n",
      "Value Iterations: 60, Gamma: 0.75\n",
      "Pi: [1 1 1 1 1 1 1 1 1 1 1 2 1 1 1 1 1 1 1 1 1 1 1 2 1 1 1 1 1 1 1 1 1 1 1 2 0\n",
      " 0 0 0 0 0 0 0 0 0 1 1]\n",
      "==============================================================================\n",
      "==============================================================================\n",
      "Policy Iterations: 14, Gamma: 0.9999\n",
      "Pi: [1 1 1 1 1 1 1 1 1 1 1 2 1 1 1 1 1 1 1 1 1 1 1 2 1 1 1 1 1 1 1 1 1 1 1 2 0\n",
      " 0 0 0 0 0 0 0 0 0 1 1]\n",
      "------------------------------------------------------------------------------\n",
      "Value Iterations: 78290, Gamma: 0.9999\n",
      "Pi: [1 1 1 1 1 1 1 1 1 1 1 2 1 1 1 1 1 1 1 1 1 1 1 2 1 1 1 1 1 1 1 1 1 1 1 2 0\n",
      " 0 0 0 0 0 0 0 0 0 1 1]\n",
      "==============================================================================\n"
     ]
    }
   ],
   "source": [
    "method_info = {}\n",
    "\n",
    "for gamma in [0, 0.1, 0.5, 0.75,0.9999]:\n",
    "    method_info[gamma] = {}\n",
    "    print(\"==============================================================================\")\n",
    "    # policy_agent.gamma = gamma\n",
    "    V, Pi, returns = policy_agent.policy_iteration(gamma)\n",
    "    # policy_agent.show_policy(Pi)\n",
    "    method_info[gamma][\"PolicyIterations\"] = len(returns)\n",
    "    print(f'Policy Iterations: {len(returns)}, Gamma: {gamma}')\n",
    "    print(f'Pi: {Pi}')\n",
    "    print(\"------------------------------------------------------------------------------\")\n",
    "    # value_agent.gamma = gamma\n",
    "    V, Pi, returns = value_agent.value_iteration(gamma)\n",
    "    # value_agent.show_policy(Pi)\n",
    "    method_info[gamma][\"ValueIterations\"] = len(returns)\n",
    "    print(f'Value Iterations: {len(returns)}, Gamma: {gamma}')\n",
    "    print(f'Pi: {Pi}')\n",
    "    print(\"==============================================================================\")"
   ]
  },
  {
   "cell_type": "code",
   "execution_count": 27,
   "metadata": {},
   "outputs": [
    {
     "name": "stdout",
     "output_type": "stream",
     "text": [
      "        PolicyIterations  ValueIterations\n",
      "gamma                                    \n",
      "0.0000                 2                2\n",
      "0.1000                16               10\n",
      "0.5000                15               26\n",
      "0.7500                16               60\n",
      "0.9999                14            78290\n"
     ]
    }
   ],
   "source": [
    "df = pd.DataFrame.from_dict(method_info, orient='index')\n",
    "df.index.name = 'gamma'\n",
    "print(df)"
   ]
  },
  {
   "cell_type": "markdown",
   "metadata": {},
   "source": [
    "For zero gamma values, both policy iteration and value iteration fail to learn a optimal policy to complete the task as the agent only focuses on immediate rewards. As the value of gamma increases, the number of iterations required to learn the optimal policy and state value function increases. For policy iteration, the number of steps in policy evaluation increases."
   ]
  },
  {
   "cell_type": "code",
   "execution_count": null,
   "metadata": {},
   "outputs": [],
   "source": []
  }
 ],
 "metadata": {
  "kernelspec": {
   "display_name": "Python 3",
   "language": "python",
   "name": "python3"
  },
  "language_info": {
   "codemirror_mode": {
    "name": "ipython",
    "version": 3
   },
   "file_extension": ".py",
   "mimetype": "text/x-python",
   "name": "python",
   "nbconvert_exporter": "python",
   "pygments_lexer": "ipython3",
   "version": "3.8.5"
  }
 },
 "nbformat": 4,
 "nbformat_minor": 4
}
